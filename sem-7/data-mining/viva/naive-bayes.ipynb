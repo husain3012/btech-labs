{
 "cells": [
  {
   "cell_type": "code",
   "execution_count": null,
   "metadata": {},
   "outputs": [],
   "source": [
    "import pandas as pd\n",
    "import numpy as np"
   ]
  },
  {
   "cell_type": "markdown",
   "metadata": {},
   "source": [
    "### Create dummy dataset\n"
   ]
  },
  {
   "cell_type": "code",
   "execution_count": null,
   "metadata": {},
   "outputs": [],
   "source": [
    "def generate_random_dataset(filename,length = 15):\n",
    "    columns = ['empid','department','job role', 'overtime', 'performance', 'attrition', 'job satisfaction']\n",
    "    department_values = ['HR', 'Marketing', 'Finance', 'IT']\n",
    "    job_role_values = ['HR','Marketing', 'Finance', 'Operations']\n",
    "    overtime_values = ['Yes', 'No']\n",
    "    performance_values = ['Excellent', 'Good', 'Bad']\n",
    "    attrition_values = ['Yes', 'No']\n",
    "    job_satisfaction_values = ['Very Satisfied','Satisfied', 'Neutral','Dissatisfied']\n",
    "\n",
    "\n",
    "    df = pd.DataFrame(columns=columns)\n",
    "    df['empid'] = np.arange(1, 1+length)\n",
    "    df['department'] = np.random.choice(department_values, df.shape[0])\n",
    "    df['job role'] = np.random.choice(job_role_values, df.shape[0])\n",
    "    df['overtime'] = np.random.choice(overtime_values, df.shape[0])\n",
    "    df['performance'] = np.random.choice(performance_values, df.shape[0])\n",
    "    df['attrition'] = np.random.choice(attrition_values, df.shape[0])\n",
    "    df['job satisfaction'] = np.random.choice(job_satisfaction_values, df.shape[0])\n",
    "    \n",
    "    df.to_csv(filename, index=False)\n",
    "\n",
    "\n",
    "# generate_random_dataset('data.csv', 20)"
   ]
  },
  {
   "cell_type": "markdown",
   "metadata": {},
   "source": [
    "### Naive Bayes Classifier"
   ]
  },
  {
   "cell_type": "code",
   "execution_count": 265,
   "metadata": {},
   "outputs": [],
   "source": [
    "class NaiveBayesClassifier:\n",
    "    def __init__(self, laplace_correction=1, debug=False):\n",
    "\n",
    "        self.prior_probabilities = []\n",
    "        self.conditional_probabilities = []\n",
    "        self.features = 0\n",
    "        self.x = []\n",
    "        self.y = []\n",
    "        self.laplace_correction = laplace_correction\n",
    "        self.debug = debug\n",
    "\n",
    "    def fit(self, x, y):\n",
    "\n",
    "        self.x = x\n",
    "        self.y = y\n",
    "        prior_probabilities = np.unique(y, return_counts=True)\n",
    "        self.prior_probabilities = {}\n",
    "        for i in range(len(prior_probabilities[0])):\n",
    "            self.prior_probabilities[prior_probabilities[0][i]] = (\n",
    "                prior_probabilities[1][i]) / (len(y))\n",
    "\n",
    "        self.conditional_probabilities = []\n",
    "        self.features = len(x[0])\n",
    "        for i in range(self.features):\n",
    "\n",
    "            if self.debug:\n",
    "                print(f'\\nFeature {i}')\n",
    "\n",
    "                \n",
    "            feature_probability = {}\n",
    "            unique_values = np.unique(x[:, i])\n",
    "            for cond in np.unique(y):\n",
    "                cond_indices = np.where(y == cond)[0]\n",
    "                cond_count = len(cond_indices)\n",
    "\n",
    "                feature_probability[cond] = {}\n",
    "                for val in unique_values:\n",
    "                    feature_probability[cond][val] = 0\n",
    "\n",
    "                    cond_with_feature_count =len(np.where(x[cond_indices, i] == val)[0])\n",
    "                    # add value for laplace correction\n",
    "                    prob_with_laplace = (cond_with_feature_count+self.laplace_correction) / (cond_count+len(unique_values)*self.laplace_correction)\n",
    "                    \n",
    "                    if self.debug:\n",
    "                        prob_without_laplace =  (cond_with_feature_count) / (cond_count)\n",
    "                        print(f\"\\t - {val} | {cond} : [{prob_without_laplace} == {prob_with_laplace}]\")\n",
    "                        \n",
    "\n",
    "                    feature_probability[cond][val] = prob_with_laplace\n",
    "            self.conditional_probabilities.append(feature_probability)\n",
    "\n",
    "        if self.debug:\n",
    "            print(\"\\n\\n\")\n",
    "            print('Prior Probabilities', self.prior_probabilities)\n",
    "            print('Conditional Probabilities', self.conditional_probabilities)\n",
    "\n",
    "    def predict(self, x):\n",
    "        results = []\n",
    "        for i in range(len(x)):\n",
    "            results.append(self.__predict(x[i]))\n",
    "        return results\n",
    "    \n",
    "    def print_probabilities_table(self):\n",
    "        print(\"Prior Probabilities\")\n",
    "        for(cond, prob) in self.prior_probabilities.items():\n",
    "            print(f\"{cond} : {prob}\")\n",
    "            \n",
    "        print(\"\\nConditional Probabilities\")\n",
    "        for i in range(self.features):\n",
    "            print(f\"Feature {i+1}\")\n",
    "            for(cond, prob) in self.conditional_probabilities[i].items():\n",
    "                print(f\"{cond} : {prob}\")\n",
    "            print(\"\\n\")\n",
    "\n",
    "    def __predict(self, x):\n",
    "        results = {}\n",
    "        \n",
    "        for cond in self.prior_probabilities:\n",
    "           \n",
    "            results[cond] = (self.prior_probabilities[cond])\n",
    "\n",
    "\n",
    "            for j in range(self.features):\n",
    "                results[cond] *= self.conditional_probabilities[j][cond][x[j]]\n",
    "\n",
    "\n",
    "        return [max(results, key=results.get)]\n"
   ]
  },
  {
   "cell_type": "markdown",
   "metadata": {},
   "source": [
    "### Helper Functions"
   ]
  },
  {
   "cell_type": "code",
   "execution_count": 266,
   "metadata": {},
   "outputs": [],
   "source": [
    "def train_test_split(X, Y, frac):\n",
    "    num_test = int(len(Y) * frac)\n",
    "    indices = np.random.permutation(len(Y))\n",
    "\n",
    "    test_indices = indices[:num_test]\n",
    "    train_indices = indices[num_test:]\n",
    "    \n",
    "    return X[train_indices], X[test_indices], Y[train_indices], Y[test_indices]\n",
    "\n",
    "def accuracy_score(Y_true, Y_pred):\n",
    "    return np.sum(Y_true == Y_pred)/len(Y_true)\n"
   ]
  },
  {
   "cell_type": "markdown",
   "metadata": {},
   "source": [
    "### Driver Code"
   ]
  },
  {
   "cell_type": "code",
   "execution_count": 267,
   "metadata": {},
   "outputs": [
    {
     "data": {
      "text/html": [
       "<div>\n",
       "<style scoped>\n",
       "    .dataframe tbody tr th:only-of-type {\n",
       "        vertical-align: middle;\n",
       "    }\n",
       "\n",
       "    .dataframe tbody tr th {\n",
       "        vertical-align: top;\n",
       "    }\n",
       "\n",
       "    .dataframe thead th {\n",
       "        text-align: right;\n",
       "    }\n",
       "</style>\n",
       "<table border=\"1\" class=\"dataframe\">\n",
       "  <thead>\n",
       "    <tr style=\"text-align: right;\">\n",
       "      <th></th>\n",
       "      <th>empid</th>\n",
       "      <th>department</th>\n",
       "      <th>job role</th>\n",
       "      <th>overtime</th>\n",
       "      <th>performance</th>\n",
       "      <th>attrition</th>\n",
       "      <th>job satisfaction</th>\n",
       "    </tr>\n",
       "  </thead>\n",
       "  <tbody>\n",
       "    <tr>\n",
       "      <th>0</th>\n",
       "      <td>1</td>\n",
       "      <td>Finance</td>\n",
       "      <td>Finance</td>\n",
       "      <td>Yes</td>\n",
       "      <td>Bad</td>\n",
       "      <td>No</td>\n",
       "      <td>Neutral</td>\n",
       "    </tr>\n",
       "    <tr>\n",
       "      <th>1</th>\n",
       "      <td>2</td>\n",
       "      <td>Marketing</td>\n",
       "      <td>Operations</td>\n",
       "      <td>Yes</td>\n",
       "      <td>Bad</td>\n",
       "      <td>Yes</td>\n",
       "      <td>Very Satisfied</td>\n",
       "    </tr>\n",
       "    <tr>\n",
       "      <th>2</th>\n",
       "      <td>3</td>\n",
       "      <td>HR</td>\n",
       "      <td>HR</td>\n",
       "      <td>No</td>\n",
       "      <td>Bad</td>\n",
       "      <td>No</td>\n",
       "      <td>Neutral</td>\n",
       "    </tr>\n",
       "    <tr>\n",
       "      <th>3</th>\n",
       "      <td>4</td>\n",
       "      <td>Marketing</td>\n",
       "      <td>Finance</td>\n",
       "      <td>Yes</td>\n",
       "      <td>Bad</td>\n",
       "      <td>Yes</td>\n",
       "      <td>Satisfied</td>\n",
       "    </tr>\n",
       "    <tr>\n",
       "      <th>4</th>\n",
       "      <td>5</td>\n",
       "      <td>Marketing</td>\n",
       "      <td>Finance</td>\n",
       "      <td>No</td>\n",
       "      <td>Good</td>\n",
       "      <td>Yes</td>\n",
       "      <td>Dissatisfied</td>\n",
       "    </tr>\n",
       "  </tbody>\n",
       "</table>\n",
       "</div>"
      ],
      "text/plain": [
       "   empid department    job role overtime performance attrition  \\\n",
       "0      1    Finance     Finance      Yes         Bad        No   \n",
       "1      2  Marketing  Operations      Yes         Bad       Yes   \n",
       "2      3         HR          HR       No         Bad        No   \n",
       "3      4  Marketing     Finance      Yes         Bad       Yes   \n",
       "4      5  Marketing     Finance       No        Good       Yes   \n",
       "\n",
       "  job satisfaction  \n",
       "0          Neutral  \n",
       "1   Very Satisfied  \n",
       "2          Neutral  \n",
       "3        Satisfied  \n",
       "4     Dissatisfied  "
      ]
     },
     "execution_count": 267,
     "metadata": {},
     "output_type": "execute_result"
    }
   ],
   "source": [
    "df = pd.read_csv('data.csv')\n",
    "df.head()\n"
   ]
  },
  {
   "cell_type": "code",
   "execution_count": 268,
   "metadata": {},
   "outputs": [
    {
     "name": "stdout",
     "output_type": "stream",
     "text": [
      "['Finance' 'Finance' 'Yes' 'Bad' 'No'] ['Neutral']\n"
     ]
    }
   ],
   "source": [
    "X = df.iloc[:, 1:-1].values\n",
    "Y = df.iloc[:, -1].values.reshape(-1, 1)\n",
    "print(X[0], Y[0])"
   ]
  },
  {
   "cell_type": "code",
   "execution_count": 269,
   "metadata": {},
   "outputs": [
    {
     "name": "stdout",
     "output_type": "stream",
     "text": [
      "Train Size: 16\n",
      "Test Size: 4\n"
     ]
    }
   ],
   "source": [
    "X_train, X_test, Y_train, Y_test = train_test_split(X, Y, 0.2)\n",
    "print(f'Train Size: {len(X_train)}')\n",
    "print(f'Test Size: {len(X_test)}')"
   ]
  },
  {
   "cell_type": "markdown",
   "metadata": {},
   "source": [
    "### Fit the model"
   ]
  },
  {
   "cell_type": "code",
   "execution_count": 270,
   "metadata": {},
   "outputs": [
    {
     "name": "stdout",
     "output_type": "stream",
     "text": [
      "\n",
      "Feature 0\n",
      "\t - Finance | Dissatisfied : [0.0 == 0.14285714285714285]\n",
      "\t - HR | Dissatisfied : [0.3333333333333333 == 0.2857142857142857]\n",
      "\t - IT | Dissatisfied : [0.0 == 0.14285714285714285]\n",
      "\t - Marketing | Dissatisfied : [0.6666666666666666 == 0.42857142857142855]\n",
      "\t - Finance | Neutral : [0.25 == 0.25]\n",
      "\t - HR | Neutral : [0.5 == 0.375]\n",
      "\t - IT | Neutral : [0.25 == 0.25]\n",
      "\t - Marketing | Neutral : [0.0 == 0.125]\n",
      "\t - Finance | Satisfied : [0.16666666666666666 == 0.2]\n",
      "\t - HR | Satisfied : [0.3333333333333333 == 0.3]\n",
      "\t - IT | Satisfied : [0.16666666666666666 == 0.2]\n",
      "\t - Marketing | Satisfied : [0.3333333333333333 == 0.3]\n",
      "\t - Finance | Very Satisfied : [0.6666666666666666 == 0.42857142857142855]\n",
      "\t - HR | Very Satisfied : [0.0 == 0.14285714285714285]\n",
      "\t - IT | Very Satisfied : [0.0 == 0.14285714285714285]\n",
      "\t - Marketing | Very Satisfied : [0.3333333333333333 == 0.2857142857142857]\n",
      "\n",
      "Feature 1\n",
      "\t - Finance | Dissatisfied : [0.6666666666666666 == 0.42857142857142855]\n",
      "\t - HR | Dissatisfied : [0.0 == 0.14285714285714285]\n",
      "\t - Marketing | Dissatisfied : [0.3333333333333333 == 0.2857142857142857]\n",
      "\t - Operations | Dissatisfied : [0.0 == 0.14285714285714285]\n",
      "\t - Finance | Neutral : [0.25 == 0.25]\n",
      "\t - HR | Neutral : [0.5 == 0.375]\n",
      "\t - Marketing | Neutral : [0.25 == 0.25]\n",
      "\t - Operations | Neutral : [0.0 == 0.125]\n",
      "\t - Finance | Satisfied : [0.5 == 0.4]\n",
      "\t - HR | Satisfied : [0.0 == 0.1]\n",
      "\t - Marketing | Satisfied : [0.3333333333333333 == 0.3]\n",
      "\t - Operations | Satisfied : [0.16666666666666666 == 0.2]\n",
      "\t - Finance | Very Satisfied : [0.3333333333333333 == 0.2857142857142857]\n",
      "\t - HR | Very Satisfied : [0.0 == 0.14285714285714285]\n",
      "\t - Marketing | Very Satisfied : [0.0 == 0.14285714285714285]\n",
      "\t - Operations | Very Satisfied : [0.6666666666666666 == 0.42857142857142855]\n",
      "\n",
      "Feature 2\n",
      "\t - No | Dissatisfied : [0.6666666666666666 == 0.6]\n",
      "\t - Yes | Dissatisfied : [0.3333333333333333 == 0.4]\n",
      "\t - No | Neutral : [0.25 == 0.3333333333333333]\n",
      "\t - Yes | Neutral : [0.75 == 0.6666666666666666]\n",
      "\t - No | Satisfied : [0.5 == 0.5]\n",
      "\t - Yes | Satisfied : [0.5 == 0.5]\n",
      "\t - No | Very Satisfied : [0.3333333333333333 == 0.4]\n",
      "\t - Yes | Very Satisfied : [0.6666666666666666 == 0.6]\n",
      "\n",
      "Feature 3\n",
      "\t - Bad | Dissatisfied : [0.0 == 0.16666666666666666]\n",
      "\t - Excellent | Dissatisfied : [0.3333333333333333 == 0.3333333333333333]\n",
      "\t - Good | Dissatisfied : [0.6666666666666666 == 0.5]\n",
      "\t - Bad | Neutral : [0.5 == 0.42857142857142855]\n",
      "\t - Excellent | Neutral : [0.25 == 0.2857142857142857]\n",
      "\t - Good | Neutral : [0.25 == 0.2857142857142857]\n",
      "\t - Bad | Satisfied : [0.3333333333333333 == 0.3333333333333333]\n",
      "\t - Excellent | Satisfied : [0.3333333333333333 == 0.3333333333333333]\n",
      "\t - Good | Satisfied : [0.3333333333333333 == 0.3333333333333333]\n",
      "\t - Bad | Very Satisfied : [0.6666666666666666 == 0.5]\n",
      "\t - Excellent | Very Satisfied : [0.3333333333333333 == 0.3333333333333333]\n",
      "\t - Good | Very Satisfied : [0.0 == 0.16666666666666666]\n",
      "\n",
      "Feature 4\n",
      "\t - No | Dissatisfied : [0.3333333333333333 == 0.4]\n",
      "\t - Yes | Dissatisfied : [0.6666666666666666 == 0.6]\n",
      "\t - No | Neutral : [0.5 == 0.5]\n",
      "\t - Yes | Neutral : [0.5 == 0.5]\n",
      "\t - No | Satisfied : [0.5 == 0.5]\n",
      "\t - Yes | Satisfied : [0.5 == 0.5]\n",
      "\t - No | Very Satisfied : [0.3333333333333333 == 0.4]\n",
      "\t - Yes | Very Satisfied : [0.6666666666666666 == 0.6]\n",
      "\n",
      "\n",
      "\n",
      "Prior Probabilities {'Dissatisfied': 0.1875, 'Neutral': 0.25, 'Satisfied': 0.375, 'Very Satisfied': 0.1875}\n",
      "Conditional Probabilities [{'Dissatisfied': {'Finance': 0.14285714285714285, 'HR': 0.2857142857142857, 'IT': 0.14285714285714285, 'Marketing': 0.42857142857142855}, 'Neutral': {'Finance': 0.25, 'HR': 0.375, 'IT': 0.25, 'Marketing': 0.125}, 'Satisfied': {'Finance': 0.2, 'HR': 0.3, 'IT': 0.2, 'Marketing': 0.3}, 'Very Satisfied': {'Finance': 0.42857142857142855, 'HR': 0.14285714285714285, 'IT': 0.14285714285714285, 'Marketing': 0.2857142857142857}}, {'Dissatisfied': {'Finance': 0.42857142857142855, 'HR': 0.14285714285714285, 'Marketing': 0.2857142857142857, 'Operations': 0.14285714285714285}, 'Neutral': {'Finance': 0.25, 'HR': 0.375, 'Marketing': 0.25, 'Operations': 0.125}, 'Satisfied': {'Finance': 0.4, 'HR': 0.1, 'Marketing': 0.3, 'Operations': 0.2}, 'Very Satisfied': {'Finance': 0.2857142857142857, 'HR': 0.14285714285714285, 'Marketing': 0.14285714285714285, 'Operations': 0.42857142857142855}}, {'Dissatisfied': {'No': 0.6, 'Yes': 0.4}, 'Neutral': {'No': 0.3333333333333333, 'Yes': 0.6666666666666666}, 'Satisfied': {'No': 0.5, 'Yes': 0.5}, 'Very Satisfied': {'No': 0.4, 'Yes': 0.6}}, {'Dissatisfied': {'Bad': 0.16666666666666666, 'Excellent': 0.3333333333333333, 'Good': 0.5}, 'Neutral': {'Bad': 0.42857142857142855, 'Excellent': 0.2857142857142857, 'Good': 0.2857142857142857}, 'Satisfied': {'Bad': 0.3333333333333333, 'Excellent': 0.3333333333333333, 'Good': 0.3333333333333333}, 'Very Satisfied': {'Bad': 0.5, 'Excellent': 0.3333333333333333, 'Good': 0.16666666666666666}}, {'Dissatisfied': {'No': 0.4, 'Yes': 0.6}, 'Neutral': {'No': 0.5, 'Yes': 0.5}, 'Satisfied': {'No': 0.5, 'Yes': 0.5}, 'Very Satisfied': {'No': 0.4, 'Yes': 0.6}}]\n"
     ]
    }
   ],
   "source": [
    "clf = NaiveBayesClassifier(laplace_correction=1, debug=True)\n",
    "clf.fit(X_train, Y_train)"
   ]
  },
  {
   "cell_type": "code",
   "execution_count": null,
   "metadata": {},
   "outputs": [],
   "source": [
    "clf.print_probabilities_table()"
   ]
  },
  {
   "cell_type": "markdown",
   "metadata": {},
   "source": [
    "### Test the model"
   ]
  },
  {
   "cell_type": "code",
   "execution_count": null,
   "metadata": {},
   "outputs": [],
   "source": [
    "y_pred = clf.predict(X_test)\n",
    "print(list(y[0] for y in y_pred))\n",
    "print(list(y[0] for y in Y_test))\n",
    "acc = accuracy_score(Y_test, y_pred)\n",
    "print(f'Accuracy: {acc}')\n"
   ]
  },
  {
   "cell_type": "markdown",
   "metadata": {},
   "source": [
    "### Make Predictions"
   ]
  },
  {
   "cell_type": "code",
   "execution_count": null,
   "metadata": {},
   "outputs": [],
   "source": [
    "X_IN = np.array(['HR', 'HR', 'Yes', 'Excellent', 'No'])\n",
    "print(clf.predict([X_IN]))\n"
   ]
  },
  {
   "cell_type": "code",
   "execution_count": null,
   "metadata": {},
   "outputs": [],
   "source": [
    "acc = accuracy_score(Y_test, y_pred)\n",
    "print(f'Accuracy: {acc}')"
   ]
  },
  {
   "cell_type": "code",
   "execution_count": null,
   "metadata": {},
   "outputs": [],
   "source": []
  }
 ],
 "metadata": {
  "kernelspec": {
   "display_name": "deeplearning",
   "language": "python",
   "name": "python3"
  },
  "language_info": {
   "codemirror_mode": {
    "name": "ipython",
    "version": 3
   },
   "file_extension": ".py",
   "mimetype": "text/x-python",
   "name": "python",
   "nbconvert_exporter": "python",
   "pygments_lexer": "ipython3",
   "version": "3.11.5"
  }
 },
 "nbformat": 4,
 "nbformat_minor": 2
}
