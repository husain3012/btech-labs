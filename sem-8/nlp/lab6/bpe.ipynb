{
 "cells": [
  {
   "cell_type": "code",
   "execution_count": 226,
   "metadata": {},
   "outputs": [],
   "source": [
    "import os\n",
    "import re\n",
    "from collections import Counter\n",
    "import pandas as pd"
   ]
  },
  {
   "cell_type": "code",
   "execution_count": 227,
   "metadata": {},
   "outputs": [],
   "source": [
    "FILE_NAME = 'text.txt'"
   ]
  },
  {
   "cell_type": "code",
   "execution_count": 228,
   "metadata": {},
   "outputs": [
    {
     "name": "stdout",
     "output_type": "stream",
     "text": [
      "low low low low low lowest lowest newer newer newer newer newer newer wider wider wider new new\n"
     ]
    }
   ],
   "source": [
    "file_text = \"\"\n",
    "\n",
    "with open(os.path.join('.', FILE_NAME), 'r') as file:\n",
    "    file_text = file.read()\n",
    "\n",
    "\n",
    "print(file_text)"
   ]
  },
  {
   "cell_type": "markdown",
   "metadata": {},
   "source": [
    "### Preprocess text"
   ]
  },
  {
   "cell_type": "code",
   "execution_count": 229,
   "metadata": {},
   "outputs": [
    {
     "data": {
      "text/plain": [
       "'low low low low low lowest lowest newer newer newer newer newer newer wider wider wider new new'"
      ]
     },
     "execution_count": 229,
     "metadata": {},
     "output_type": "execute_result"
    }
   ],
   "source": [
    "file_text = re.sub(r'[^a-zA-Z0-9\\s]', '', file_text)\n",
    "file_text = file_text.lower()\n",
    "file_text"
   ]
  },
  {
   "cell_type": "code",
   "execution_count": 230,
   "metadata": {},
   "outputs": [],
   "source": [
    "CHAR_SEPARATOR = '.'\n",
    "\n",
    "def byte_pair_encoding_learner(text, k=None):\n",
    "    k = k if k is not None else len(text)\n",
    "    # We will be using . symbol as seprator for each character and _ for whitespace sperator\n",
    "    text = re.sub(r'\\s+', '_', file_text)\n",
    "    text = CHAR_SEPARATOR.join(list(text))\n",
    "    \n",
    "    vocab = dict(Counter(text.split(CHAR_SEPARATOR)))\n",
    "\n",
    "    for iter in range(k):\n",
    "        pairs = {}\n",
    "        chars = text.split(CHAR_SEPARATOR)\n",
    "        for i in range(len(chars) - 1):\n",
    "            pair = chars[i] + chars[i + 1]\n",
    "            if pair in pairs:\n",
    "                pairs[pair] ={\n",
    "                    'count': pairs[pair]['count'] + 1,\n",
    "                    'original': (chars[i], chars[i + 1])\n",
    "                }\n",
    "            else:\n",
    "                pairs[pair] = {\n",
    "                    'count': 1,\n",
    "                    'original': (chars[i], chars[i + 1])\n",
    "                }\n",
    "\n",
    "        if not pairs:\n",
    "            print(\"No more pairs to merge.\")\n",
    "            break\n",
    "        \n",
    "        max_pair = max(pairs, key=lambda x: pairs[x]['count'])\n",
    "        max_pair_count = pairs[max_pair]['count']\n",
    "        max_pair_chars = pairs[max_pair]['original']\n",
    "        vocab[max_pair] = max_pair_count\n",
    "        text = text.replace( CHAR_SEPARATOR.join(max_pair_chars), ''.join(max_pair_chars))\n",
    "\n",
    "     \n",
    "        print(f\"Step {iter + 1}: {max_pair_chars} -> {max_pair}\")\n",
    "        print(\"Vocabulary\", vocab)\n",
    "        print(\"---------------------------\\n\")\n",
    "\n",
    "\n",
    "    return vocab\n",
    "\n"
   ]
  },
  {
   "cell_type": "code",
   "execution_count": 233,
   "metadata": {},
   "outputs": [
    {
     "name": "stdout",
     "output_type": "stream",
     "text": [
      "Step 1: ('e', 'r') -> er\n",
      "Vocabulary {'l': 7, 'o': 7, 'w': 18, '_': 17, 'e': 19, 's': 2, 't': 2, 'n': 8, 'r': 9, 'i': 3, 'd': 3, 'er': 9}\n",
      "---------------------------\n",
      "\n",
      "Step 2: ('er', '_') -> er_\n",
      "Vocabulary {'l': 7, 'o': 7, 'w': 18, '_': 17, 'e': 19, 's': 2, 't': 2, 'n': 8, 'r': 9, 'i': 3, 'd': 3, 'er': 9, 'er_': 9}\n",
      "---------------------------\n",
      "\n",
      "Step 3: ('n', 'e') -> ne\n",
      "Vocabulary {'l': 7, 'o': 7, 'w': 18, '_': 17, 'e': 19, 's': 2, 't': 2, 'n': 8, 'r': 9, 'i': 3, 'd': 3, 'er': 9, 'er_': 9, 'ne': 8}\n",
      "---------------------------\n",
      "\n",
      "Step 4: ('ne', 'w') -> new\n",
      "Vocabulary {'l': 7, 'o': 7, 'w': 18, '_': 17, 'e': 19, 's': 2, 't': 2, 'n': 8, 'r': 9, 'i': 3, 'd': 3, 'er': 9, 'er_': 9, 'ne': 8, 'new': 8}\n",
      "---------------------------\n",
      "\n",
      "Step 5: ('l', 'o') -> lo\n",
      "Vocabulary {'l': 7, 'o': 7, 'w': 18, '_': 17, 'e': 19, 's': 2, 't': 2, 'n': 8, 'r': 9, 'i': 3, 'd': 3, 'er': 9, 'er_': 9, 'ne': 8, 'new': 8, 'lo': 7}\n",
      "---------------------------\n",
      "\n",
      "Step 6: ('lo', 'w') -> low\n",
      "Vocabulary {'l': 7, 'o': 7, 'w': 18, '_': 17, 'e': 19, 's': 2, 't': 2, 'n': 8, 'r': 9, 'i': 3, 'd': 3, 'er': 9, 'er_': 9, 'ne': 8, 'new': 8, 'lo': 7, 'low': 7}\n",
      "---------------------------\n",
      "\n",
      "Step 7: ('_', 'low') -> _low\n",
      "Vocabulary {'l': 7, 'o': 7, 'w': 18, '_': 17, 'e': 19, 's': 2, 't': 2, 'n': 8, 'r': 9, 'i': 3, 'd': 3, 'er': 9, 'er_': 9, 'ne': 8, 'new': 8, 'lo': 7, 'low': 7, '_low': 6}\n",
      "---------------------------\n",
      "\n",
      "Step 8: ('new', 'er_') -> newer_\n",
      "Vocabulary {'l': 7, 'o': 7, 'w': 18, '_': 17, 'e': 19, 's': 2, 't': 2, 'n': 8, 'r': 9, 'i': 3, 'd': 3, 'er': 9, 'er_': 9, 'ne': 8, 'new': 8, 'lo': 7, 'low': 7, '_low': 6, 'newer_': 6}\n",
      "---------------------------\n",
      "\n",
      "Step 9: ('newer_', 'newer_') -> newer_newer_\n",
      "Vocabulary {'l': 7, 'o': 7, 'w': 18, '_': 17, 'e': 19, 's': 2, 't': 2, 'n': 8, 'r': 9, 'i': 3, 'd': 3, 'er': 9, 'er_': 9, 'ne': 8, 'new': 8, 'lo': 7, 'low': 7, '_low': 6, 'newer_': 6, 'newer_newer_': 5}\n",
      "---------------------------\n",
      "\n",
      "Step 10: ('_low', '_low') -> _low_low\n",
      "Vocabulary {'l': 7, 'o': 7, 'w': 18, '_': 17, 'e': 19, 's': 2, 't': 2, 'n': 8, 'r': 9, 'i': 3, 'd': 3, 'er': 9, 'er_': 9, 'ne': 8, 'new': 8, 'lo': 7, 'low': 7, '_low': 6, 'newer_': 6, 'newer_newer_': 5, '_low_low': 4}\n",
      "---------------------------\n",
      "\n"
     ]
    }
   ],
   "source": [
    "\n",
    "final_vocab = byte_pair_encoding_learner(file_text, 10)"
   ]
  },
  {
   "cell_type": "code",
   "execution_count": 234,
   "metadata": {},
   "outputs": [
    {
     "name": "stdout",
     "output_type": "stream",
     "text": [
      "_ => 17\n",
      "_low => 6\n",
      "_low_low => 4\n",
      "d => 3\n",
      "e => 19\n",
      "er => 9\n",
      "er_ => 9\n",
      "i => 3\n",
      "l => 7\n",
      "lo => 7\n",
      "low => 7\n",
      "n => 8\n",
      "ne => 8\n",
      "new => 8\n",
      "newer_ => 6\n",
      "newer_newer_ => 5\n",
      "o => 7\n",
      "r => 9\n",
      "s => 2\n",
      "t => 2\n",
      "w => 18\n"
     ]
    }
   ],
   "source": [
    "sorted_vocab = dict(sorted(final_vocab.items(), key=lambda x: x[0], reverse=False))\n",
    "\n",
    "pd.DataFrame(sorted_vocab.items(), columns=['Token', 'Count']).reindex(columns=['Count', 'Token']).to_csv('vocab.csv', index=False)\n",
    "\n",
    "for k, v in sorted_vocab.items():\n",
    "    print(f\"{k} => {v}\")\n",
    "   "
   ]
  },
  {
   "cell_type": "code",
   "execution_count": null,
   "metadata": {},
   "outputs": [],
   "source": []
  },
  {
   "cell_type": "code",
   "execution_count": null,
   "metadata": {},
   "outputs": [],
   "source": []
  }
 ],
 "metadata": {
  "kernelspec": {
   "display_name": "deeplearning",
   "language": "python",
   "name": "python3"
  },
  "language_info": {
   "codemirror_mode": {
    "name": "ipython",
    "version": 3
   },
   "file_extension": ".py",
   "mimetype": "text/x-python",
   "name": "python",
   "nbconvert_exporter": "python",
   "pygments_lexer": "ipython3",
   "version": "3.11.5"
  }
 },
 "nbformat": 4,
 "nbformat_minor": 2
}
