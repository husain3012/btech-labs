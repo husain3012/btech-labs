{
 "cells": [
  {
   "cell_type": "code",
   "execution_count": 34,
   "metadata": {},
   "outputs": [],
   "source": [
    "import nltk\n",
    "from nltk.corpus import words\n",
    "import os\n",
    "import re"
   ]
  },
  {
   "cell_type": "code",
   "execution_count": 35,
   "metadata": {},
   "outputs": [
    {
     "name": "stderr",
     "output_type": "stream",
     "text": [
      "[nltk_data] Downloading package words to /home/husain3012/nltk_data...\n",
      "[nltk_data]   Package words is already up-to-date!\n"
     ]
    },
    {
     "data": {
      "text/plain": [
       "True"
      ]
     },
     "execution_count": 35,
     "metadata": {},
     "output_type": "execute_result"
    }
   ],
   "source": [
    "nltk.download('words')"
   ]
  },
  {
   "cell_type": "code",
   "execution_count": 36,
   "metadata": {},
   "outputs": [],
   "source": [
    "def clean_text(text):\n",
    "    text = text.lower()\n",
    "    text_cleanup_regex = r'[^a-z]+'\n",
    "\n",
    "    text = re.sub(text_cleanup_regex,'', text)\n",
    "    return text\n",
    "\n",
    "def load_text(filename):\n",
    "\n",
    "    with open(filename, \"r\", encoding=\"utf-8\") as file:\n",
    "        text = file.read()\n",
    "        text = clean_text(text)\n",
    "\n",
    "        return text"
   ]
  },
  {
   "cell_type": "code",
   "execution_count": 37,
   "metadata": {},
   "outputs": [
    {
     "name": "stdout",
     "output_type": "stream",
     "text": [
      "catswiththeirenigmaticcharmandgracefuldemeanorhavecaptivatedhumanheartsforcenturiesfromancientegypttomoderndayhouseholdsthesemysteriouscreatureshavewoventhemselvesintothefabricofhumansocietywiththeirindependentspiritandplayfulanticstheirsleekfurmesmerizingeyesandsoftpurrsexudeanirresistiblealluredrawingusintotheirworldofcuriosityandagilitywhetherlounginglazilyinthesunorprowlingstealthilyinthenightcatsembodyasenseofeleganceandpoisethatisbothcaptivatingandcomfortingasbelovedcompanionstheyoffercompanionshipaffectionandoccasionalmischiefenrichingourliveswiththeiruniquepersonalitiesandendearingquirksinthetapestryofhumanexistencecatsstandassilentyetprofoundobserversremindingusofthebeautyandsimplicityoflivinginthemoment\n"
     ]
    }
   ],
   "source": [
    "text = load_text(\"text.txt\")\n",
    "print(text)"
   ]
  },
  {
   "cell_type": "code",
   "execution_count": 40,
   "metadata": {},
   "outputs": [],
   "source": [
    "def tokenizer(text):\n",
    "    tokens = []\n",
    "    total_progress = len(text)**2\n",
    "    current_progress = 0\n",
    "\n",
    "    lowercaseCorpus = [x.lower() for x in words.words()]\n",
    "    i = 0\n",
    "\n",
    "    while i < len(text):\n",
    "        maxWord = \"\"\n",
    "        for j in range(i, len(text)):\n",
    "            tempWord = text[i:j+1]\n",
    "            if tempWord in lowercaseCorpus and len(tempWord) > len(maxWord):\n",
    "                maxWord = tempWord\n",
    "            current_progress+=1\n",
    "            print(f\"Progress: {round(current_progress/total_progress*100, 2)}\", end='\\r')\n",
    "            \n",
    "        i = i+len(maxWord)\n",
    "        tokens.append(maxWord)\n",
    "        \n",
    "\n",
    "    return tokens"
   ]
  },
  {
   "cell_type": "code",
   "execution_count": 42,
   "metadata": {},
   "outputs": [
    {
     "name": "stdout",
     "output_type": "stream",
     "text": [
      "Progress: :.2f\r"
     ]
    }
   ],
   "source": [
    "tokens = tokenizer(text)\n",
    "print(tokens)"
   ]
  },
  {
   "cell_type": "code",
   "execution_count": null,
   "metadata": {},
   "outputs": [
    {
     "name": "stdout",
     "output_type": "stream",
     "text": [
      "theca tint he hati s my pet andi t can fly above the sky\n"
     ]
    }
   ],
   "source": [
    "segmented_text = \" \".join(tokens)\n",
    "print(segmented_text)"
   ]
  },
  {
   "cell_type": "code",
   "execution_count": null,
   "metadata": {},
   "outputs": [],
   "source": []
  }
 ],
 "metadata": {
  "kernelspec": {
   "display_name": "deeplearning",
   "language": "python",
   "name": "python3"
  },
  "language_info": {
   "codemirror_mode": {
    "name": "ipython",
    "version": 3
   },
   "file_extension": ".py",
   "mimetype": "text/x-python",
   "name": "python",
   "nbconvert_exporter": "python",
   "pygments_lexer": "ipython3",
   "version": "3.11.5"
  }
 },
 "nbformat": 4,
 "nbformat_minor": 2
}
